{
 "cells": [
  {
   "cell_type": "code",
   "execution_count": null,
   "id": "8e74d04a-5eb7-49a6-a454-7fe1a5925566",
   "metadata": {},
   "outputs": [],
   "source": [
    "import sklearn\n",
    "import numpy as np\n",
    "import pandas as pd\n",
    "\n",
    "from scipy.spatial.distance import cosine\n",
    "from sklearn.neighbors import NearestNeighbors\n",
    "\n",
    "from sentence_transformers import SentenceTransformer"
   ]
  },
  {
   "cell_type": "markdown",
   "id": "4ddbd80f-a9ef-4f68-a83b-3a9874f6cff5",
   "metadata": {},
   "source": [
    "## Data loading"
   ]
  },
  {
   "cell_type": "code",
   "execution_count": null,
   "id": "471ded4d-1400-4033-8b31-b884ab5443d9",
   "metadata": {},
   "outputs": [],
   "source": [
    "russia_df = pd.read_csv('data/ru_sample_ex.csv')\n",
    "italy_df = pd.read_csv('data/it_sample_ex.csv')"
   ]
  },
  {
   "cell_type": "code",
   "execution_count": null,
   "id": "ee9fca17-891b-4b80-a0f2-c537b8c59c87",
   "metadata": {},
   "outputs": [],
   "source": [
    "italy_docs = [dd for d in italy_df['content'].values for dd in d.split('\\n\\n')]\n",
    "russia_docs = [dd for d in russia_df['content'].values for dd in d.split('\\n\\n')]"
   ]
  },
  {
   "cell_type": "code",
   "execution_count": null,
   "id": "2851504b-b74b-4080-ad55-73bf8a81b1be",
   "metadata": {},
   "outputs": [],
   "source": [
    "italy_sents = [dd for d in italy_df['content'].values for dd in d.split('.') if len(dd) > 20]\n",
    "russia_sents = [dd for d in russia_df['content'].values for dd in d.split('.') if len(dd) > 20]"
   ]
  },
  {
   "cell_type": "code",
   "execution_count": null,
   "id": "0cd270f6-fdf4-4270-9da9-91141e4807bb",
   "metadata": {},
   "outputs": [],
   "source": [
    "model = SentenceTransformer(\"all-MiniLM-L6-v2\")"
   ]
  },
  {
   "cell_type": "code",
   "execution_count": null,
   "id": "3ef0c903-bd34-4213-91f2-b59d2caa947e",
   "metadata": {},
   "outputs": [],
   "source": [
    "embeddings_rus = model.encode(russia_docs)\n",
    "embeddings_ita = model.encode(italy_docs)"
   ]
  },
  {
   "cell_type": "code",
   "execution_count": null,
   "id": "ad4ed386-2f38-42fb-a51b-be39f3c04158",
   "metadata": {},
   "outputs": [],
   "source": [
    "sembeddings_rus = model.encode(russia_sents)\n",
    "sembeddings_ita = model.encode(italy_sents)"
   ]
  },
  {
   "cell_type": "code",
   "execution_count": null,
   "id": "2e83723e-c1e8-4328-b0dd-ba0f1be906ad",
   "metadata": {},
   "outputs": [],
   "source": [
    "S_train, S_test, _, _ = sklearn.model_selection.train_test_split(russia_sents + italy_sents, [1] * len(russia_sents) + [0] * len(italy_sents), test_size=0.5, random_state=42)"
   ]
  },
  {
   "cell_type": "code",
   "execution_count": null,
   "id": "3a13ae2d-0dd6-4db2-a6fd-a6886c757c55",
   "metadata": {},
   "outputs": [],
   "source": [
    "Z_train, Z_test, z_train, z_test = sklearn.model_selection.train_test_split(np.vstack([sembeddings_rus, sembeddings_ita]), [1] * len(russia_sents) + [0] * len(italy_sents), test_size=0.5, random_state=42)"
   ]
  },
  {
   "cell_type": "code",
   "execution_count": null,
   "id": "715c00dd-6402-40db-9451-89242f09e2d1",
   "metadata": {},
   "outputs": [],
   "source": [
    "D_train, D_test, _, _ = sklearn.model_selection.train_test_split(russia_docs + italy_docs, [1] * len(russia_docs) + [0] * len(italy_docs), test_size=0.5, random_state=42)"
   ]
  },
  {
   "cell_type": "code",
   "execution_count": null,
   "id": "0d2c42a0-bed3-465c-b7ea-b91475df7545",
   "metadata": {},
   "outputs": [],
   "source": [
    "X_train, X_test, y_train, y_test = sklearn.model_selection.train_test_split(np.vstack([embeddings_rus, embeddings_ita]), [1] * len(russia_docs) + [0] * len(italy_docs), test_size=0.5, random_state=42)"
   ]
  },
  {
   "cell_type": "markdown",
   "id": "ada59729-9d63-4ddc-8be9-af737267b645",
   "metadata": {},
   "source": [
    "## paragraph classification"
   ]
  },
  {
   "cell_type": "code",
   "execution_count": null,
   "id": "63ff9375-0264-4c56-8cba-d6c7916ce35e",
   "metadata": {},
   "outputs": [],
   "source": [
    "neigh = KNeighborsClassifier(n_neighbors=5)\n",
    "neigh.fit(X_train, y_train)\n",
    "outputs = neigh.predict(X_test)\n",
    "f1_5nn = sklearn.metrics.f1_score(y_test, outputs)\n",
    "f1_5nn"
   ]
  },
  {
   "cell_type": "code",
   "execution_count": null,
   "id": "7f6e3982-ab95-4520-959e-51518fccb109",
   "metadata": {},
   "outputs": [],
   "source": [
    "neigh1 = KNeighborsClassifier(n_neighbors=1)\n",
    "neigh1.fit(X_train, y_train)\n",
    "outputs1 = neigh1.predict(X_test)\n",
    "f1_1nn = sklearn.metrics.f1_score(y_test, outputs1)\n",
    "f1_1nn"
   ]
  },
  {
   "cell_type": "code",
   "execution_count": null,
   "id": "439681c1-8699-4c50-af87-b846f6d4a504",
   "metadata": {},
   "outputs": [],
   "source": [
    "neigh3 = KNeighborsClassifier(n_neighbors=3)\n",
    "outputs3 = neigh3.predict(X_test)\n",
    "f1_3nn = sklearn.metrics.f1_score(y_test, outputs3)\n",
    "f1_3nn"
   ]
  },
  {
   "cell_type": "code",
   "execution_count": null,
   "id": "174871e3-e08c-421c-8be1-cd7e70904d72",
   "metadata": {},
   "outputs": [],
   "source": [
    "f1_5nn = sklearn.metrics.f1_score(y_test, outputs)\n",
    "f1_5nn"
   ]
  },
  {
   "cell_type": "code",
   "execution_count": null,
   "id": "7d0678bf-7f7d-4384-97cb-65f671eabc2d",
   "metadata": {},
   "outputs": [],
   "source": [
    "len(y_test)"
   ]
  },
  {
   "cell_type": "code",
   "execution_count": null,
   "id": "3115dae3-a764-4256-a7e4-3045b9057876",
   "metadata": {},
   "outputs": [],
   "source": [
    "sum([outputs[i] != y_test[i] for i in range(len(D_test))])"
   ]
  },
  {
   "cell_type": "markdown",
   "id": "1b6c242b-52ea-424c-9385-33e24ccf88cc",
   "metadata": {},
   "source": [
    "## Error analysis"
   ]
  },
  {
   "cell_type": "code",
   "execution_count": null,
   "id": "4caff1a0-1f03-4150-b98a-72f6390618a3",
   "metadata": {},
   "outputs": [],
   "source": [
    "for i, d in enumerate(D_test):\n",
    "    if outputs[i] != y_test[i]:\n",
    "        print(d)\n",
    "        print('Predicted:', \"Russie\" if outputs[i] else \"Pas Russie\")"
   ]
  },
  {
   "cell_type": "code",
   "execution_count": null,
   "id": "e3b33f65-e5c8-444f-a45e-de3ba0b0c80a",
   "metadata": {},
   "outputs": [],
   "source": [
    "len(z_train)"
   ]
  },
  {
   "cell_type": "markdown",
   "id": "5cac8884-f525-40c4-911b-c58a57b60c15",
   "metadata": {},
   "source": [
    "## Sentence classification"
   ]
  },
  {
   "cell_type": "code",
   "execution_count": null,
   "id": "70137f85-d04e-4999-837c-fe8e6f67f03b",
   "metadata": {},
   "outputs": [],
   "source": [
    "neigh_sent = KNeighborsClassifier(n_neighbors=5)\n",
    "neigh_sent.fit(Z_train, z_train)\n",
    "outputs_sent = neigh_sent.predict(Z_test)\n",
    "fsent_5nn = sklearn.metrics.f1_score(z_test, outputs_sent)\n",
    "fsent_5nn"
   ]
  },
  {
   "cell_type": "code",
   "execution_count": null,
   "id": "f4cb4882-3d31-427e-b338-619cab9a90c3",
   "metadata": {},
   "outputs": [],
   "source": [
    "neigh_sent = KNeighborsClassifier(n_neighbors=3)\n",
    "neigh_sent.fit(Z_train, z_train)\n",
    "outputs_sent = neigh_sent.predict(Z_test)\n",
    "fsent_5nn = sklearn.metrics.f1_score(z_test, outputs_sent)\n",
    "fsent_5nn"
   ]
  },
  {
   "cell_type": "code",
   "execution_count": null,
   "id": "cc985ed3-4754-4365-a826-f36033ca0385",
   "metadata": {},
   "outputs": [],
   "source": [
    "neigh_sent = KNeighborsClassifier(n_neighbors=9)\n",
    "neigh_sent.fit(Z_train, z_train)\n",
    "outputs_sent = neigh_sent.predict(Z_test)\n",
    "fsent_5nn = sklearn.metrics.f1_score(z_test, outputs_sent)\n",
    "fsent_5nn"
   ]
  },
  {
   "cell_type": "code",
   "execution_count": null,
   "id": "48da6675-a693-4b46-9ef7-c26a1bb9e6e9",
   "metadata": {},
   "outputs": [],
   "source": []
  }
 ],
 "metadata": {
  "kernelspec": {
   "display_name": "Python 3 (ipykernel)",
   "language": "python",
   "name": "python3"
  },
  "language_info": {
   "codemirror_mode": {
    "name": "ipython",
    "version": 3
   },
   "file_extension": ".py",
   "mimetype": "text/x-python",
   "name": "python",
   "nbconvert_exporter": "python",
   "pygments_lexer": "ipython3",
   "version": "3.10.15"
  }
 },
 "nbformat": 4,
 "nbformat_minor": 5
}
